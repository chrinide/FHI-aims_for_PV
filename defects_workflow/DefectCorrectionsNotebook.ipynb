{
 "cells": [
  {
   "cell_type": "markdown",
   "metadata": {},
   "source": [
    "# Finite-size corrections to charged defect supercells with FHI-aims\n",
    "This notebook is designed for applying finite-size corrections to charged defect supercells using outputs from the [FHI-aims](https://aimsclub.fhi-berlin.mpg.de/) electronic structure software package and the FNV correction scheme (doi: 10.1103/PhysRevLett.102.016402) through integration with the CoFFEE python code.\n",
    "\n",
    "First download and install CoFFEE from [here](https://www.sciencedirect.com/science/article/pii/S0010465518300158).\n",
    "\n",
    "The steps below are designed to allow for easier processing of large sets of defect calculations. All user defined settings are in the first cell. All subsequent cells do not require user inputs. They just need to be run in order and there is an explanation of the analysis being performed before each cell. Each charged defect still needs to be processed one at a time by specifying the location of directories with the relevant data. The user must then extract the correction energy from the potential alignment plot at the end of this notebook.\n",
    "\n",
    "# Notes to self and to-do's\n",
    "- Should add error messages if no file found e.g. when trying to read defect and host geometry.in's?\n",
    "- Re-read CoFFEE docs to check if steps were missed for creating in_V file and use this to test with Tong's plotting script\n",
    "- Use python glob to look through all dir's when computing sigma for defect set + read in and count species\n",
    "- Use above to help write script to extract coords of defect in perfect host\n",
    "- Print min distances of defect from supercell boundaries to user\n",
    "\n",
    "## 1. User inputs"
   ]
  },
  {
   "cell_type": "code",
   "execution_count": 49,
   "metadata": {
    "collapsed": true
   },
   "outputs": [],
   "source": [
    "# Dielectric properties of host crystal: electronic+ionic dielectric constants\n",
    "dielectric_xx = 7.49 \n",
    "dielectric_yy = 6.92\n",
    "dielectric_zz = 7.19\n",
    "\n",
    "# Location of CoFFEE code (this is the directory containing coffee.py and other Utilities of the CoFFEE package)\n",
    "path_to_coffee_dir= '/Users/suzy/Desktop/DefectAnalysis/CoFFEE_1.1'\n",
    "# Dir with all data for final one-shots of all defect supercells (inc. perfect supercell)\n",
    "path_to_all_defects = '/Users/suzy/Desktop/DefectAnalysis/EnargiteDefects/fromLandau/Results/data/final_one_shots' \n",
    "# Dir with data for perfect host supercell\n",
    "path_to_host = '/Users/suzy/Desktop/DefectAnalysis/EnargiteDefects/fromLandau/Results/data/final_one_shots/PerfectReference' \n",
    "# Dir with defect you want to perform correction for\n",
    "path_to_defect = '/Users/suzy/Desktop/DefectAnalysis/EnargiteDefects/fromLandau/Results/data/final_one_shots/VacancySupercells/V-S/charged/+1/DefectSpacegroup1'\n",
    "# Dir with neutral version of defect you want to correct\n",
    "path_to_neutral = '/Users/suzy/Desktop/DefectAnalysis/EnargiteDefects/fromLandau/Results/data/final_one_shots/VacancySupercells/V-S/neutral/DefectSpacegroup1'\n",
    "# Enter charge state of defect you want to perform the correction for\n",
    "defect_charge = 1\n",
    "\n",
    "# Files for outputs for corrections\n",
    "charge_model_file = 'cm_V_S_q=+1_sg=1.dat' #Name for image-charge correction file for this defect\n",
    "pa_plot_file = 'pa_V_S_q=+1_sg=1.png' #Name for plot for potential alignment plot for this defect\n",
    "\n",
    "# Plane wave cutoff for Poisson solver will be computed based on sigma value of Gaussian charge model\n",
    "# If this is found to not converge after running the script, option below to manually set the cutoff (e.g. 40.0)\n",
    "# Leave as 'None' to let the script use the value computed based on the sigma value\n",
    "manual_cutoff = None\n",
    "\n",
    "### END OF USER INPUTS ###\n"
   ]
  },
  {
   "cell_type": "code",
   "execution_count": null,
   "metadata": {
    "collapsed": true
   },
   "outputs": [],
   "source": [
    "# All python libraries used in notebook\n",
    "defect_geom = path_to_defect+'/geometry.in'\n",
    "import re # Python equivalent of grep\n",
    "from pylab import *\n",
    "from numpy.linalg import *\n",
    "from numpy import dot,cross,pi\n",
    "from scipy.interpolate import spline\n",
    "import os,sys\n",
    "import matplotlib.pyplot as plt\n",
    "import matplotlib as mpl\n",
    "import matplotlib.colors\n",
    "import numpy as np"
   ]
  },
  {
   "cell_type": "markdown",
   "metadata": {},
   "source": [
    "## 2. Determine sigma for the Gaussian models for your defect set\n",
    "The purpose is to determine the value of sigma for the Gaussian charge models that is small enough to ensure that the charge is contained within the supercell for all supercells, including the ones where the defect is closest to the boundary of the supercell. For consistency, it is desirable to use the same value of sigma for all defects in your set of calculations.\n",
    "\n",
    "This step needs to only be run once for your set of defects, so if it turns out to be slow for a large set of defects just run it once and for subsequent runs replace the cell below with a cell that just contains:\n",
    "\n",
    "`sigma = computed_value_from_first_run`"
   ]
  },
  {
   "cell_type": "code",
   "execution_count": 45,
   "metadata": {
    "collapsed": true
   },
   "outputs": [],
   "source": [
    "# Script using glob to go through master directory for defect calculations\n",
    "\n",
    "# Locate the defect in each - may be more complicated now we do not specify defect type? \n",
    "## Actually, can infer above by reading in species name at end of coord lines and comparing to perfect\n",
    "### Read from end of lines that start with 'atom' up to the first white space to determine species\n",
    "#### For each first occurence of species, define new count variable (species1 and species1_count)\n",
    "##### Make above into 'define_defect_type' function?\n",
    "\n",
    "# Make a 'find_defect_coord' function? (reuse this and above in step4)\n",
    "\n",
    "# Compute the minimum x, y, z distances from the defect to the supercell boundary, append to a list\n",
    "# Use min of the above list to set sigma, must be less than min dist to supercell boundary? -- test!\n",
    "\n",
    "\n",
    "\n",
    "# Use glob to go through all dirs\n",
    "# Read in species type at end of coord line\n",
    "## count no. of each type, determine defect type by comparing number of each species to perfect list\n",
    "\n",
    "sigma= 1.4"
   ]
  },
  {
   "cell_type": "markdown",
   "metadata": {},
   "source": [
    "## 3. Determine cutoff for Poisson solver based on sigma of Gaussian charge model\n",
    "\n",
    "The script below sets the cutoff for the plane waves used in CoFFEE's Poisson solver. Smaller sigma values require more plane waves to achieve convergence and the more plane waves the slower the solver will be. \n",
    "\n",
    "If it turns out that you are unable to achieve convergence with the cutoff value set based on sigma, there is also the option to override the value and set this manually. This is the 'manual_cutoff' variable in step 1."
   ]
  },
  {
   "cell_type": "code",
   "execution_count": 46,
   "metadata": {},
   "outputs": [],
   "source": [
    "# Script to compute plane wave cutoff based on sigma (20.0 Hartree was fine for sigma=1.4)\n",
    "cutoff_ratio = 20.0/1.4 # Found to converge well in tests\n",
    "cutoff = sigma*cutoff_ratio\n",
    "\n",
    "# Override computed value if user has set a manual cutoff\n",
    "cutoff = manual_cutoff if manual_cutoff else cutoff"
   ]
  },
  {
   "cell_type": "markdown",
   "metadata": {},
   "source": [
    "## 4. Locate the defect coordinates in the perfect host crystal\n",
    "This script locates the coordinates of the defect by comparing the defect supercell to the perfect host supercell.\n",
    "The defect position is referenced to the species that would be in the perfect host, e.g. the S atom removed from the host to make a S vacancy.\n",
    "\n",
    "These coordinates will be used to define the centre of the Gaussian used in the charge model in the 'in' file for coffee.py. The z-position of the defect will also be used when generating plots of planar average of potentials for the potential alignment (pa)."
   ]
  },
  {
   "cell_type": "code",
   "execution_count": null,
   "metadata": {
    "collapsed": true
   },
   "outputs": [],
   "source": [
    "# Similar to step 2 script to identify type of defect by comparing no. of species in species lists\n",
    "# Compare geometry.in in path_to_host and path_to_defect\n",
    "# Once type of defect has been identified, use this to help determine coordinates of defect in host supercell\n",
    "\n",
    "\n",
    "### Dummy values for script testing\n",
    "defect_x = 5.1\n",
    "defect_y = 5.2\n",
    "defect_z = 5.3"
   ]
  },
  {
   "cell_type": "markdown",
   "metadata": {},
   "source": [
    "### Smallest distances of the defect from the supercell boundary:"
   ]
  },
  {
   "cell_type": "code",
   "execution_count": null,
   "metadata": {
    "collapsed": true
   },
   "outputs": [],
   "source": [
    "## Also print minimum distance of this defect to the supercell boundary to the user\n",
    "\n",
    "# x, y, z min distances of defect from supercell boundary and supercell dimensions\n"
   ]
  },
  {
   "cell_type": "markdown",
   "metadata": {},
   "source": [
    "## 5. Generate 'in' file for charge model calculation with coffee.py"
   ]
  },
  {
   "cell_type": "code",
   "execution_count": 54,
   "metadata": {},
   "outputs": [],
   "source": [
    "defect_geom = path_to_defect+'/geometry.in' ### ADD ERROR MESSAGE IF GEOM FILE NOT FOUND???\n",
    "\n",
    "### Writing 'in' file for coffee.py\n",
    "coffee_in = open(\"in\", \"w\")\n",
    "\n",
    "## CELL PARAMS\n",
    "coffee_in.write(\"&CELL_PARAMETERS\\n\")\n",
    "coffee_in.write(\"\\n\")\n",
    "coffee_in.write(\"Lattice_Vectors(normalized):\\n\")\n",
    "# Read in lattice vectors from geometry.in, normalize and write to 'in' file for CoFFEE\n",
    "x_vecs = []\n",
    "y_vecs = []\n",
    "z_vecs = []\n",
    "for line in open(defect_geom, 'r'):\n",
    "    if re.search('lattice_vector', line):\n",
    "        words = line.split()\n",
    "        x_vecs.append(words[1])\n",
    "        y_vecs.append(words[2])\n",
    "        z_vecs.append(words[3])\n",
    "        if line == None:\n",
    "            print('no matches found')\n",
    "x_tot = float(x_vecs[0])+float(x_vecs[1])+float(x_vecs[2])\n",
    "y_tot = float(y_vecs[0])+float(y_vecs[1])+float(y_vecs[2])\n",
    "z_tot = float(z_vecs[0])+float(z_vecs[1])+float(z_vecs[2])\n",
    "coffee_in.write(str(float(x_vecs[0])/x_tot)+\"   \"+str(float(y_vecs[0])/y_tot)+\"   \"+str(float(z_vecs[0])/z_tot)+\"\\n\")\n",
    "coffee_in.write(str(float(x_vecs[1])/x_tot)+\"   \"+str(float(y_vecs[1])/y_tot)+\"   \"+str(float(z_vecs[1])/z_tot)+\"\\n\")\n",
    "coffee_in.write(str(float(x_vecs[2])/x_tot)+\"   \"+str(float(y_vecs[2])/y_tot)+\"   \"+str(float(z_vecs[2])/z_tot)+\"\\n\")\n",
    "coffee_in.write(\"\\n\")\n",
    "coffee_in.write(\"Cell_dimensions angstrom\\n\")\n",
    "coffee_in.write(str(x_tot)+\"  \"+str(y_tot)+\"   \"+str(z_tot)+\"\\n\")\n",
    "coffee_in.write(\"\\n\")\n",
    "coffee_in.write(\"Ecut=\"+str(cutoff)+\" Hartree\\n\")\n",
    "coffee_in.write(\"/\\n\")\n",
    "coffee_in.write(\"\\n\")\n",
    "\n",
    "## DIELECTRIC PARAMS\n",
    "coffee_in.write(\"&DIELECTRIC_PARAMETERS Bulk\\n\")\n",
    "coffee_in.write(\"Epsilon1_a1 = \"+str(dielectric_xx)+\"\\n\")\n",
    "coffee_in.write(\"Epsilon1_a2 = \"+str(dielectric_yy)+\"\\n\")\n",
    "coffee_in.write(\"Epsilon1_a3 = \"+str(dielectric_zz)+\"\\n\")\n",
    "coffee_in.write(\"/\\n\")\n",
    "coffee_in.write(\"\\n\")\n",
    "\n",
    "## GAUSSIAN PARAMS (used for charge model)\n",
    "coffee_in.write(\"&GAUSSIAN_PARAMETERS:\\n\")\n",
    "coffee_in.write(\"Total_charge = \"+str(defect_charge)+\"\\n\")\n",
    "coffee_in.write(\"Sigma = \"+str(sigma)+\"\\n\")\n",
    "# Centre of Gaussian is set as defect location\n",
    "coffee_in.write(\"Centre_a1 = \"+str(defect_x)+\"\\n\")\n",
    "coffee_in.write(\"Centre_a2 = \"+str(defect_y)+\"\\n\")\n",
    "coffee_in.write(\"Centre_a3 = \"+str(defect_z)+\"\\n\")\n",
    "coffee_in.write(\"/\\n\")\n",
    "coffee_in.close()\n"
   ]
  },
  {
   "cell_type": "markdown",
   "metadata": {},
   "source": [
    "## 6. Run CoFFEE\n",
    "\n",
    "### 6a. Obtain E_lat for the charge model\n",
    "See the [CoFFEE paper](https://www.sciencedirect.com/science/article/pii/S0010465518300158) for details.\n",
    "\n",
    "### 6b. Obtain planar average of the potential of the charge model\n",
    "Outputs from step 6a are used to obtain the planar average of potential for charge model from CoFFEE. This is needed for the potential alignment step. \n",
    "\n",
    "The script below uses V_r.npy generated from step2 with in_V to obtain plavg_a3.plot ????? - check CoFFEE docs"
   ]
  },
  {
   "cell_type": "code",
   "execution_count": 5,
   "metadata": {},
   "outputs": [
    {
     "name": "stdout",
     "output_type": "stream",
     "text": [
      "/Users/suzy/Desktop/DefectAnalysis/CoFFEE_1.1/coffee.py in\n"
     ]
    }
   ],
   "source": [
    "# UPDATE TO RUN ALSO WITH PYTHON\n",
    "\n",
    "%%bash\n",
    "\n",
    "\n",
    "# Performing icc with CoFFEE\n",
    "./${path_to_coffee_dir}/coffee.py in > ${charge_model_file}\n",
    "\n",
    "# Obtaining planar average of potential for charge model with CoFFEE\n"
   ]
  },
  {
   "cell_type": "markdown",
   "metadata": {},
   "source": [
    "## 7. Perform potential alignment (pa)\n",
    "Use plavg_a3.plot for the planar average of the charge model obtained in step 6 from CoFFEE with 'plane_average_realspace_ESP.out' files from FHI-aims calculation for the perfect host, neutral defect and charged defect.\n",
    "\n",
    "With thanks to Tong Zhu for the original plotting script the one below is based on."
   ]
  },
  {
   "cell_type": "code",
   "execution_count": null,
   "metadata": {
    "collapsed": true
   },
   "outputs": [],
   "source": [
    "%matplotlib inline\n",
    "\n",
    "### USER INPUTS ### -- update to refer to relevant directories specified at the top of the notebook\n",
    "host_pot = \n",
    "neutral_defect_pot = \n",
    "charged_defect_pot =\n",
    "###################\n",
    "\n",
    "\n",
    "\"\"\"\n",
    "Created on Wed Oct 24 13:11:47 2018\n",
    "\n",
    "@author: tong\n",
    "\n",
    "For correction  only V_0- V_Host  \n",
    "The usage should be:  plot.py charge lattice_constant_z defect_pos_z  Host_potential_filename  defect_neutral_potential_filename \n",
    "charge:  defect charges \n",
    "lattice_constant_z:  z-direction lattice_constant \n",
    "defect_pos_z:  defect_position at z-direction \n",
    "e.g.   plot.py  -1 18.52  4.59  origin_plane_averge_esp.out  m0_plane_averge_esp.out  \n",
    "\n",
    "\n",
    "\n",
    "For the whole correction by CoFFEE, i.e. two terms picture  q(V_0 - V_host) and  q((V_charge-V_0) - V_model)\n",
    "\n",
    "The usage should be: plot.py charge lattice_constant_z defect_pos_z  Host_potential_filename  defect_neutral_potential_filename defect_charge_potential_filename  defect_model_potential_filename  \n",
    "\n",
    "\"\"\"\n",
    "\n",
    "\n",
    "\n",
    "#unit conversion  \n",
    "Ha_eV = 27.2116   # hartree to eV\n",
    "b_A = 0.529177249  # bohr to angstrom \n",
    "\n",
    "def read_file(Filename):  \n",
    "    # reading the plane-average-file from FHI-aims output, \n",
    "    #and obtain the free-average-contribution, and the raw data \n",
    "    F = open(Filename, \"r\")\n",
    "    res = F.readline().split()\n",
    "    dim=len(res)\n",
    "    average_free = float(res[dim-1])\n",
    "    F.readline()\n",
    "    F.readline()\n",
    "    data = F.readlines()\n",
    "    dim = len(data)\n",
    "    result  = np.zeros([dim,2])\n",
    "    i = 0 \n",
    "    for line in data:\n",
    "      words = line.split()\n",
    "      result[i][0] = float(words[0])\n",
    "      result[i][1] = float(words[1])\n",
    "      i=i+1\n",
    "    return average_free, result \n",
    "\n",
    "dim_sys = len(sys.argv)\n",
    "charge = float(sys.argv[1])\n",
    "lattice_constant_z = float(sys.argv[2])\n",
    "Defect_pos = float(sys.argv[3])\n",
    "Origin_F=sys.argv[4]\n",
    "Defect_neutral_F=sys.argv[5]\n",
    "if dim_sys > 6: \n",
    "   Defect_charge_F=sys.argv[6] \n",
    "   Defect_model_F = sys.argv[7]\n",
    "\n",
    "\n",
    "offset_o, origin = read_file(Origin_F)\n",
    "offset_d, defect_neutral = read_file(Defect_neutral_F)\n",
    "\n",
    "\n",
    "X = defect_neutral[:,0]\n",
    "Y = charge*(defect_neutral[:,1]*Ha_eV - offset_d - (origin[:,1]*Ha_eV-offset_o)) \n",
    "\n",
    "print charge \n",
    "print lattice_constant_z\n",
    "\n",
    "#begin ploting q*(V(Defect,0) - V(Host))\n",
    "Y_min = min(Y)\n",
    "Y_max = max(Y)\n",
    "Ymin = Y_min - 0.15*(Y_max-Y_min)\n",
    "Ymax = Y_max + 0.15*(Y_max-Y_min)\n",
    "plt.xlim((0,lattice_constant_z))\n",
    "plt.ylim((Ymin,Ymax))\n",
    "plt.axvline(x=Defect_pos,linestyle='--',color='orange')\n",
    "plt.plot(X,Y,'or',label='q(V(Defect,0)-V(Host))')\n",
    "plt.legend()\n",
    "plt.xlabel(r'Z-coordinates ($\\AA$)',fontsize=15,fontname = \"Times New Roman\")\n",
    "plt.ylabel('Potential (eV)',fontsize=15,fontname = \"Times New Roman\")\n",
    "plt.savefig(\"V0-Vhost\",dpi=600)\n",
    "\n",
    "#begin plot    V(Defect,charge) - V(Defect,0) and   V_Model \n",
    "if dim_sys > 6:\n",
    "   offset_d2, defect_charge = read_file(Defect_charge_F)\n",
    "   Model = np.loadtxt(Defect_model_F)\n",
    "   X1 = defect_charge[:,0]\n",
    "   Y1 = defect_charge[:,1]*Ha_eV-offset_d2 - (defect_neutral[:,1]*Ha_eV-offset_d)\n",
    "   X_model = Model[:,0]*b_A\n",
    "   Y_model = Model[:,1]*-1.0  \n",
    "\n",
    "   Y_min = min(Y_model)\n",
    "   Y_max = max(Y_model)\n",
    "   Ymin = Y_min - 0.15*(Y_max-Y_min)\n",
    "   Ymax = Y_max + 0.15*(Y_max-Y_min)\n",
    "\n",
    "\n",
    "   plt.clf()\n",
    "   plt.xlim((0,lattice_constant_z))\n",
    "   plt.ylim((Ymin,Ymax))\n",
    "   plt.axvline(x=Defect_pos,linestyle='--',color='orange')\n",
    "   plt.plot(X1,Y1,'or',label='V(Defect,q)-V(Defect,0)')\n",
    "   plt.plot(X_model,Y_model,'--k',label='V(Model)')\n",
    "   plt.legend()\n",
    "   plt.xlabel(r'Z-coordinates ($\\AA$)',fontsize=15,fontname = \"Times New Roman\")\n",
    "   plt.ylabel('Potential (eV)',fontsize=15,fontname = \"Times New Roman\")\n",
    "   plt.savefig(\"V_charge-V0\",dpi=600)\n"
   ]
  }
 ],
 "metadata": {
  "kernelspec": {
   "display_name": "Python 3",
   "language": "python",
   "name": "python3"
  },
  "language_info": {
   "codemirror_mode": {
    "name": "ipython",
    "version": 3
   },
   "file_extension": ".py",
   "mimetype": "text/x-python",
   "name": "python",
   "nbconvert_exporter": "python",
   "pygments_lexer": "ipython3",
   "version": "3.6.3"
  }
 },
 "nbformat": 4,
 "nbformat_minor": 2
}
